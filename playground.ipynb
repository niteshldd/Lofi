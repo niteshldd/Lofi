{
 "cells": [
  {
   "cell_type": "code",
   "execution_count": 19,
   "metadata": {},
   "outputs": [
    {
     "name": "stdout",
     "output_type": "stream",
     "text": [
      "['/workspace/demo/org/Scarborough.wav', '/workspace/demo/org/Sky Of More.mp3', '/workspace/demo/org/Darling, Without You.mp3', \"/workspace/demo/org/He Loves I Don't Care.mp3\", '/workspace/demo/org/晚风心里吹.mp3', '/workspace/demo/org/Apology Of Dreams.mp3', '/workspace/demo/org/Home Rhythm.mp3', \"/workspace/demo/org/Babe, We're Crazy.mp3\", '/workspace/demo/org/Best Moves.mp3', '/workspace/demo/org/Open Up To Her Tomorrow.mp3', '/workspace/demo/org/千里之外.mp3', '/workspace/demo/org/Dream Of My Home.mp3', '/workspace/demo/org/Season Of My Heart.mp3']\n",
      "['/workspace/demo/noise/增强版黑胶唱片底噪.aiff', '/workspace/demo/noise/尘封的磁带录音.wav', '/workspace/demo/noise/黑胶唱片播放底噪.wav', '/workspace/demo/noise/空白黑胶唱片播放底噪.wav', '/workspace/demo/noise/黑胶唱片噪音.flac']\n"
     ]
    }
   ],
   "source": [
    "from moviepy.editor import AudioFileClip, CompositeAudioClip, concatenate_audioclips\n",
    "from glob import glob\n",
    "from math import floor\n",
    "import os\n",
    "\n",
    "org_files = list(glob('/workspace/demo/org/*'))\n",
    "noise_files = list(glob('/workspace/demo/noise/*'))\n",
    "compose_dir = '/workspace/demo/noised_comp'\n",
    "\n",
    "print(org_files)\n",
    "print(noise_files)\n",
    "\n",
    "org_clips = [AudioFileClip(f) for f in org_files]\n",
    "noise_clips = [AudioFileClip(f) for f in noise_files]\n",
    "\n",
    "max_org_dur = max([c.duration for c in org_clips])\n",
    "os.makedirs(compose_dir, exist_ok=True)\n",
    "for i in range(len(noise_clips)):\n",
    "    ns_clip = noise_clips[i]\n",
    "    loop = floor(max_org_dur / ns_clip.duration)\n",
    "    noise_clips[i] = concatenate_audioclips([ns_clip for _ in range(loop)])\n",
    "\n",
    "\n"
   ]
  },
  {
   "cell_type": "code",
   "execution_count": 20,
   "metadata": {},
   "outputs": [],
   "source": [
    "for org_fp, org_clip in zip(org_files, org_clips):\n",
    "    for ns_fp, ns_clip in zip(noise_files, noise_clips):\n",
    "        org_name = org_fp.split('/')[-1].split('.')[0]\n",
    "        ns_name = ns_fp.split('/')[-1].split('.')[0]\n",
    "        comp_fp = os.path.join(compose_dir, f\"{org_name}-{ns_name}.mp3\")\n",
    "        comp_clip = CompositeAudioClip([org_clip.set_start(1.5), ns_clip.subclip(0, org_clip.duration)])\n",
    "        comp_clip.write_audiofile(comp_fp, org_clip.fps, logger=None)\n",
    "            \n",
    "\n"
   ]
  },
  {
   "cell_type": "code",
   "execution_count": 4,
   "metadata": {},
   "outputs": [
    {
     "name": "stdout",
     "output_type": "stream",
     "text": [
      "ffmpeg -y -i /workspace/demo/noised_comp/晚风心里吹-增强版黑胶唱片底噪.mp3 -b:a 64k /workspace/demo/noised_comp/晚风心里吹-增强版黑胶唱片底噪-br_64.mp3\n"
     ]
    },
    {
     "name": "stderr",
     "output_type": "stream",
     "text": [
      "ffmpeg version 4.3 Copyright (c) 2000-2020 the FFmpeg developers\n",
      "  built with gcc 7.3.0 (crosstool-NG 1.23.0.449-a04d0)\n",
      "  configuration: --prefix=/opt/conda --cc=/opt/conda/conda-bld/ffmpeg_1597178665428/_build_env/bin/x86_64-conda_cos6-linux-gnu-cc --disable-doc --disable-openssl --enable-avresample --enable-gnutls --enable-hardcoded-tables --enable-libfreetype --enable-libopenh264 --enable-pic --enable-pthreads --enable-shared --disable-static --enable-version3 --enable-zlib --enable-libmp3lame\n",
      "  libavutil      56. 51.100 / 56. 51.100\n",
      "  libavcodec     58. 91.100 / 58. 91.100\n",
      "  libavformat    58. 45.100 / 58. 45.100\n",
      "  libavdevice    58. 10.100 / 58. 10.100\n",
      "  libavfilter     7. 85.100 /  7. 85.100\n",
      "  libavresample   4.  0.  0 /  4.  0.  0\n",
      "  libswscale      5.  7.100 /  5.  7.100\n",
      "  libswresample   3.  7.100 /  3.  7.100\n",
      "Input #0, mp3, from '/workspace/demo/noised_comp/晚风心里吹-增强版黑胶唱片底噪.mp3':\n",
      "  Metadata:\n",
      "    encoder         : Lavf58.29.100\n",
      "  Duration: 00:03:07.98, start: 0.025057, bitrate: 128 kb/s\n",
      "    Stream #0:0: Audio: mp3, 44100 Hz, stereo, fltp, 128 kb/s\n",
      "    Metadata:\n",
      "      encoder         : Lavc58.54\n",
      "Stream mapping:\n",
      "  Stream #0:0 -> #0:0 (mp3 (mp3float) -> mp3 (libmp3lame))\n",
      "Press [q] to stop, [?] for help\n",
      "Output #0, mp3, to '/workspace/demo/noised_comp/晚风心里吹-增强版黑胶唱片底噪-br_64.mp3':\n",
      "  Metadata:\n",
      "    TSSE            : Lavf58.45.100\n",
      "    Stream #0:0: Audio: mp3 (libmp3lame), 44100 Hz, stereo, fltp, 64 kb/s\n",
      "    Metadata:\n",
      "      encoder         : Lavc58.91.100 libmp3lame\n",
      "size=    1469kB time=00:03:07.95 bitrate=  64.0kbits/s speed=49.5x    \n",
      "video:0kB audio:1469kB subtitle:0kB other streams:0kB global headers:0kB muxing overhead: 0.016824%\n"
     ]
    }
   ],
   "source": [
    "from glob import glob\n",
    "import subprocess\n",
    "compose_dir = '/workspace/demo/noised_comp'\n",
    "\n",
    "def low_bit(fp, bitrate):\n",
    "    lb_fp = fp[:-4] + f'-br_{bitrate}.mp3'\n",
    "    cmd = f\"ffmpeg -y -i {fp} -b:a {bitrate}k {lb_fp}\"\n",
    "    subprocess.run(cmd, shell=True)\n",
    "\n",
    "for fp in glob(compose_dir+'/*.mp3'):\n",
    "    if '-br_' in fp:\n",
    "        continue\n",
    "    low_bit(fp, 32)\n",
    "    low_bit(fp, 64)\n",
    "    low_bit(fp, 128)\n",
    "\n",
    "    # lb_fp = fp[:-4] + '-br_64.mp3'\n",
    "    # cmd = f\"ffmpeg -y -i {fp} -b:a 64k {lb_fp}\"\n",
    "    # subprocess.run(cmd, shell=True)\n",
    "    break\n"
   ]
  }
 ],
 "metadata": {
  "kernelspec": {
   "display_name": "Python 3.9.12 ('base')",
   "language": "python",
   "name": "python3"
  },
  "language_info": {
   "codemirror_mode": {
    "name": "ipython",
    "version": 3
   },
   "file_extension": ".py",
   "mimetype": "text/x-python",
   "name": "python",
   "nbconvert_exporter": "python",
   "pygments_lexer": "ipython3",
   "version": "3.9.12"
  },
  "orig_nbformat": 4,
  "vscode": {
   "interpreter": {
    "hash": "d4d1e4263499bec80672ea0156c357c1ee493ec2b1c70f0acce89fc37c4a6abe"
   }
  }
 },
 "nbformat": 4,
 "nbformat_minor": 2
}
